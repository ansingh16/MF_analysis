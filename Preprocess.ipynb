{
 "cells": [
  {
   "cell_type": "markdown",
   "metadata": {},
   "source": [
    "## URL extraction"
   ]
  },
  {
   "cell_type": "code",
   "execution_count": 27,
   "metadata": {},
   "outputs": [
    {
     "name": "stdout",
     "output_type": "stream",
     "text": [
      "https://groww.in/mutual-funds/quant-momentum-fund-direct-growth\n",
      "https://groww.in/mutual-funds/hdfc-transportation-and-logistics-fund-direct-growth\n",
      "https://groww.in/mutual-funds/quant-momentum-fund-direct-growth\n",
      "https://groww.in/mutual-funds/axis-india-manufacturing-fund-direct-growth\n",
      "https://groww.in/mutual-funds/icici-prudential-top-100-fund-direct-growth\n",
      "https://groww.in/mutual-funds/quant-commodities-fund-direct-growth\n",
      "https://groww.in/mutual-funds/kotak-healthcare-fund-direct-growth\n",
      "https://groww.in/mutual-funds/hdfc-mid-cap-opportunities-fund-direct-growth\n",
      "https://groww.in/mutual-funds/hdfc-technology-fund-direct-growth\n",
      "https://groww.in/mutual-funds/icici-prudential-focused-bluechip-equity-fund-direct-growth\n",
      "https://groww.in/mutual-funds/franklin-india-flexi-cap-fund-direct-growth\n",
      "https://groww.in/mutual-funds/icici-prudential-multicap-fund-direct-growth\n",
      "https://groww.in/mutual-funds/nippon-india-multi-cap-fund-direct-growth\n",
      "https://groww.in/mutual-funds/groww-nifty-total-market-index-fund-direct-growth\n",
      "https://groww.in/mutual-funds/quant-active-fund-direct-growth\n",
      "https://groww.in/mutual-funds/sbi-magnum-multiplier-fund-direct-growth\n",
      "https://groww.in/mutual-funds/quant-manufacturing-fund-direct-growth\n",
      "https://groww.in/mutual-funds/kotak-emerging-equity-scheme-direct-growth\n",
      "https://groww.in/mutual-funds/dsp-gold-etf-fof-direct-growth\n"
     ]
    }
   ],
   "source": [
    "import pandas as pd\n",
    "import requests\n",
    "import numpy as np \n",
    "from bs4 import BeautifulSoup\n",
    "import re\n",
    "\n",
    "data = pd.read_csv('sample_port.csv')\n",
    "\n",
    "names = data['Scheme Name']\n",
    "\n",
    "\n",
    "\n",
    "def check_url_for_404(url):\n",
    "    try:\n",
    "        response = requests.get(url)\n",
    "        if response.status_code == 404:\n",
    "            return True\n",
    "        else:\n",
    "            return False\n",
    "    except requests.exceptions.RequestException as e:\n",
    "        print(\"An error occurred:\", e)\n",
    "        return False\n",
    "\n",
    "# Example usage\n",
    "\n",
    "scheme_url = []\n",
    "NAV_list = []\n",
    "\n",
    "for name in names:\n",
    "    name1 = name.lower().replace(' ','-').replace('---','-').replace('regular','direct')\n",
    "    \n",
    "    \n",
    "    name2 = name1.replace('plan','growth')\n",
    "\n",
    "    # remove the string after growth \n",
    "    name3 = name2.split('growth', 1)[0].replace('-direct-','-direct-growth').replace('--','-').replace('-idcw-reinvestment','')\n",
    "\n",
    "    if 'fund-of-fund' in name3:\n",
    "        name3 = name3.replace('fund-of-fund','fof')\n",
    "\n",
    "    if name3.endswith('fund-'):\n",
    "        name3 = name3.replace('fund-','fund-direct-growth')\n",
    "    \n",
    "    if name3.endswith('fund'):\n",
    "        name3 = name3.replace('fund','fund-direct-growth')\n",
    "    \n",
    "    if name3.endswith('discovery-'):\n",
    "        name3 = name3.replace('discovery-','discovery-fund-direct-growth')\n",
    "    \n",
    "    if name3=='icici-prudential-large-&-mid-cap-fund-direct-growth':\n",
    "        name3 = 'icici-prudential-top-100-fund-direct-growth'\n",
    "    \n",
    "    if name3=='icici-prudential-bluechip-fund-direct-growth':\n",
    "        name3 = 'icici-prudential-focused-bluechip-equity-fund-direct-growth' \n",
    "    \n",
    "    if name3=='sbi-large-&-midcap-fund-direct-growth':\n",
    "        name3 = 'sbi-magnum-multiplier-fund-direct-growth'\n",
    "\n",
    "    if name3=='kotak-emerging-equity-fund':\n",
    "        name3 = 'kotak-emerging-equity-scheme-direct-growth'\n",
    "\n",
    "    if name3=='quant-small-cap-fund-direct-growth':\n",
    "        name3 = 'quant-small-cap-fund-direct-plan-growth'\n",
    "\n",
    "    if name3=='dsp-flexi-cap-fund-direct-growth':\n",
    "        name3 = 'dsp-blackrock-equity-fund-direct-growth'\n",
    "\n",
    "    if name3=='kotak-emerging-equity-fund-direct-growth':\n",
    "        name3 = 'kotak-emerging-equity-scheme-direct-growth'\n",
    "\n",
    "    if name3=='kotak-small-cap-fund-direct-growth':\n",
    "        name3= 'kotak-midcap-fund-direct-growth'\n",
    "\n",
    "    if name3=='templeton-india-equity-income-fund-direct-growth':\n",
    "        name3 = 'templeton-india-equity-i-come-fund-direct-growth'\n",
    "\n",
    "    if name3=='dsp-banking-&-financial-services-fund-direct-growth':\n",
    "        name3 = 'dsp-banking-financial-services-fund-direct-growth'\n",
    "\n",
    "    url = f\"https://groww.in/mutual-funds/{name3}\"\n",
    "    print(url)\n",
    "    is_404 = check_url_for_404(url)\n",
    "    if is_404:\n",
    "        print(name3)\n",
    "\n",
    "        print(f\"The URL {url} returns a 404 status code.\")\n",
    "    \n",
    "    urldat = requests.get(url)\n",
    "\n",
    "    soup = BeautifulSoup(urldat.text, 'html.parser')\n",
    "\n",
    "\n",
    "\n",
    "    td_tag = soup.find_all('td',class_=\"fd12Cell contentPrimary bodyLargeHeavy\")[0]\n",
    "\n",
    "    # Extract the text content from the <td> tag\n",
    "    value = td_tag.get_text(strip=True)\n",
    "\n",
    "    NAV= re.search(r'₹([\\d.]+)', value).group(1)\n",
    "\n",
    "    NAV_list.append(NAV)\n",
    "    scheme_url.append(url)\n",
    "\n",
    "    #.split('-')[0].lower().replace(' ','-')[:-1])\n",
    "\n",
    "data['scheme_url'] = np.array(scheme_url)\n",
    "data['NAV'] = np.array(NAV_list)\n",
    "\n",
    "data.to_csv('sample_port.csv',index=False)\n"
   ]
  },
  {
   "cell_type": "markdown",
   "metadata": {},
   "source": [
    "## Data "
   ]
  },
  {
   "cell_type": "code",
   "execution_count": 2,
   "metadata": {},
   "outputs": [
    {
     "data": {
      "text/html": [
       "<div>\n",
       "<style scoped>\n",
       "    .dataframe tbody tr th:only-of-type {\n",
       "        vertical-align: middle;\n",
       "    }\n",
       "\n",
       "    .dataframe tbody tr th {\n",
       "        vertical-align: top;\n",
       "    }\n",
       "\n",
       "    .dataframe thead th {\n",
       "        text-align: right;\n",
       "    }\n",
       "</style>\n",
       "<table border=\"1\" class=\"dataframe\">\n",
       "  <thead>\n",
       "    <tr style=\"text-align: right;\">\n",
       "      <th></th>\n",
       "      <th>Scheme Name</th>\n",
       "      <th>ISIN</th>\n",
       "      <th>Scheme Category Name</th>\n",
       "      <th>Units</th>\n",
       "      <th>NAV</th>\n",
       "      <th>scheme_url</th>\n",
       "    </tr>\n",
       "  </thead>\n",
       "  <tbody>\n",
       "    <tr>\n",
       "      <th>0</th>\n",
       "      <td>quant Momentum Fund - Regular Plan IDCW - Rein...</td>\n",
       "      <td>INF966L01CY6</td>\n",
       "      <td>Equity - Diversified</td>\n",
       "      <td>3000.000</td>\n",
       "      <td>13.73</td>\n",
       "      <td>https://groww.in/mutual-funds/quant-momentum-f...</td>\n",
       "    </tr>\n",
       "    <tr>\n",
       "      <th>1</th>\n",
       "      <td>HDFC Transportation and Logistics Fund Regular...</td>\n",
       "      <td>INF179KC1GX4</td>\n",
       "      <td>Equity - Sector - Auto</td>\n",
       "      <td>1500.000</td>\n",
       "      <td>13.49</td>\n",
       "      <td>https://groww.in/mutual-funds/hdfc-transportat...</td>\n",
       "    </tr>\n",
       "    <tr>\n",
       "      <th>2</th>\n",
       "      <td>quant Momentum Fund - Regular Plan Growth - Gr...</td>\n",
       "      <td>INF966L01CW0</td>\n",
       "      <td>Equity - Diversified</td>\n",
       "      <td>7075.965</td>\n",
       "      <td>13.73</td>\n",
       "      <td>https://groww.in/mutual-funds/quant-momentum-f...</td>\n",
       "    </tr>\n",
       "    <tr>\n",
       "      <th>3</th>\n",
       "      <td>Axis India Manufacturing Fund Regular Growth</td>\n",
       "      <td>INF846K013S0</td>\n",
       "      <td>Equity - Diversified</td>\n",
       "      <td>3000.000</td>\n",
       "      <td>11.75</td>\n",
       "      <td>https://groww.in/mutual-funds/axis-india-manuf...</td>\n",
       "    </tr>\n",
       "    <tr>\n",
       "      <th>4</th>\n",
       "      <td>ICICI Prudential Large &amp; Mid Cap Fund - Growth</td>\n",
       "      <td>INF109K01431</td>\n",
       "      <td>Equity - Diversified</td>\n",
       "      <td>220.345</td>\n",
       "      <td>924.99</td>\n",
       "      <td>https://groww.in/mutual-funds/icici-prudential...</td>\n",
       "    </tr>\n",
       "  </tbody>\n",
       "</table>\n",
       "</div>"
      ],
      "text/plain": [
       "                                         Scheme Name          ISIN  \\\n",
       "0  quant Momentum Fund - Regular Plan IDCW - Rein...  INF966L01CY6   \n",
       "1  HDFC Transportation and Logistics Fund Regular...  INF179KC1GX4   \n",
       "2  quant Momentum Fund - Regular Plan Growth - Gr...  INF966L01CW0   \n",
       "3       Axis India Manufacturing Fund Regular Growth  INF846K013S0   \n",
       "4     ICICI Prudential Large & Mid Cap Fund - Growth  INF109K01431   \n",
       "\n",
       "     Scheme Category Name     Units     NAV  \\\n",
       "0    Equity - Diversified  3000.000   13.73   \n",
       "1  Equity - Sector - Auto  1500.000   13.49   \n",
       "2    Equity - Diversified  7075.965   13.73   \n",
       "3    Equity - Diversified  3000.000   11.75   \n",
       "4    Equity - Diversified   220.345  924.99   \n",
       "\n",
       "                                          scheme_url  \n",
       "0  https://groww.in/mutual-funds/quant-momentum-f...  \n",
       "1  https://groww.in/mutual-funds/hdfc-transportat...  \n",
       "2  https://groww.in/mutual-funds/quant-momentum-f...  \n",
       "3  https://groww.in/mutual-funds/axis-india-manuf...  \n",
       "4  https://groww.in/mutual-funds/icici-prudential...  "
      ]
     },
     "execution_count": 2,
     "metadata": {},
     "output_type": "execute_result"
    }
   ],
   "source": [
    "import pandas as pd \n",
    "\n",
    "data = pd.read_csv('sample_port.csv')\n",
    "\n",
    "columns_to_keep = ['Scheme Name', 'ISIN', 'Scheme Category Name', 'Units', 'NAV','scheme_url']\n",
    "\n",
    "data = data[columns_to_keep]\n",
    "\n",
    "data.to_csv('sample_port.csv',index=False)\n",
    "data.head()"
   ]
  },
  {
   "cell_type": "code",
   "execution_count": null,
   "metadata": {},
   "outputs": [],
   "source": []
  },
  {
   "cell_type": "markdown",
   "metadata": {},
   "source": [
    "## Data get the holding"
   ]
  },
  {
   "cell_type": "code",
   "execution_count": 8,
   "metadata": {},
   "outputs": [],
   "source": [
    "import requests\n",
    "from bs4 import BeautifulSoup\n",
    "import json\n",
    "\n",
    "\n",
    "data = pd.read_csv('sample_port.csv')\n",
    "all_schemes = data['Scheme Name'].unique()\n",
    "\n",
    "consol_df = pd.DataFrame()\n",
    "for scheme in all_schemes:\n",
    "        url = requests.get(data.loc[data['Scheme Name'] == scheme,'scheme_url'].values[0])\n",
    "        soup = BeautifulSoup(url.text, 'html.parser')\n",
    "\n",
    "        # Find the script tag with the specific ID\n",
    "        script_tag = soup.find('script', id='__NEXT_DATA__')\n",
    "\n",
    "        # Extract the JSON data from the script tag content\n",
    "        json_data = json.loads(script_tag.contents[0])\n",
    "\n",
    "        # get holdings\n",
    "        holdings = json_data['props']['pageProps']['mf']['holdings']\n",
    "\n",
    "        # get pandas\n",
    "        hold_df = pd.DataFrame(holdings)\n",
    "        \n",
    "        # hold_df = hold_df[['company_name','sector_name','corpus_per']]\n",
    "\n",
    "        consol_df = pd.concat([hold_df, consol_df], ignore_index=True)\n",
    "\n",
    "consol_df = consol_df[['company_name','sector_name','corpus_per']]\n"
   ]
  },
  {
   "cell_type": "code",
   "execution_count": 7,
   "metadata": {},
   "outputs": [
    {
     "name": "stdout",
     "output_type": "stream",
     "text": [
      "[{'scheme_code': '152202', 'portfolio_date': '2024-02-29T00:00:00.570Z', 'company_name': 'Sun Pharmaceutical Industries Ltd.', 'nature_name': 'EQ', 'sector_name': 'Healthcare', 'instrument_name': 'Equity', 'rating': None, 'market_value': 247.773969, 'corpus_per': 6.07418409, 'market_cap': None, 'rating_market_cap': None, 'stock_search_id': 'sun-pharmaceutical-industries-ltd'}, {'scheme_code': '152202', 'portfolio_date': '2024-02-29T00:00:00.570Z', 'company_name': 'Tata Motors Ltd.', 'nature_name': 'EQ', 'sector_name': 'Automobile', 'instrument_name': 'Equity', 'rating': None, 'market_value': 240.4006, 'corpus_per': 5.89342579, 'market_cap': None, 'rating_market_cap': None, 'stock_search_id': 'tata-motors-ltd'}, {'scheme_code': '152202', 'portfolio_date': '2024-02-29T00:00:00.570Z', 'company_name': 'Mahindra & Mahindra Ltd.', 'nature_name': 'EQ', 'sector_name': 'Automobile', 'instrument_name': 'Equity', 'rating': None, 'market_value': 235.7528, 'corpus_per': 5.77948488, 'market_cap': None, 'rating_market_cap': None, 'stock_search_id': 'mahindra-mahindra-ltd'}, {'scheme_code': '152202', 'portfolio_date': '2024-02-29T00:00:00.570Z', 'company_name': 'Reliance Industries Ltd.', 'nature_name': 'EQ', 'sector_name': 'Energy', 'instrument_name': 'Equity', 'rating': None, 'market_value': 228.76128, 'corpus_per': 5.60808762, 'market_cap': None, 'rating_market_cap': None, 'stock_search_id': 'reliance-industries-ltd'}, {'scheme_code': '152202', 'portfolio_date': '2024-02-29T00:00:00.570Z', 'company_name': 'Bajaj Auto Ltd.', 'nature_name': 'EQ', 'sector_name': 'Automobile', 'instrument_name': 'Equity', 'rating': None, 'market_value': 164.591201, 'corpus_per': 4.03495677, 'market_cap': None, 'rating_market_cap': None, 'stock_search_id': 'bajaj-auto-ltd'}, {'scheme_code': '152202', 'portfolio_date': '2024-02-29T00:00:00.570Z', 'company_name': 'Bharat Electronics Ltd.', 'nature_name': 'EQ', 'sector_name': 'Capital Goods', 'instrument_name': 'Equity', 'rating': None, 'market_value': 140.786055, 'corpus_per': 3.45137311, 'market_cap': None, 'rating_market_cap': None, 'stock_search_id': 'bharat-electronics-ltd'}, {'scheme_code': '152202', 'portfolio_date': '2024-02-29T00:00:00.570Z', 'company_name': 'Maruti Suzuki India Ltd.', 'nature_name': 'EQ', 'sector_name': 'Automobile', 'instrument_name': 'Equity', 'rating': None, 'market_value': 110.861757, 'corpus_per': 2.71777832, 'market_cap': None, 'rating_market_cap': None, 'stock_search_id': 'maruti-suzuki-india-ltd'}, {'scheme_code': '152202', 'portfolio_date': '2024-02-29T00:00:00.570Z', 'company_name': 'Cipla Ltd.', 'nature_name': 'EQ', 'sector_name': 'Healthcare', 'instrument_name': 'Equity', 'rating': None, 'market_value': 103.355224, 'corpus_per': 2.5337555, 'market_cap': None, 'rating_market_cap': None, 'stock_search_id': 'cipla-ltd'}, {'scheme_code': '152202', 'portfolio_date': '2024-02-29T00:00:00.570Z', 'company_name': 'Hindustan Petroleum Corporation Ltd.', 'nature_name': 'EQ', 'sector_name': 'Energy', 'instrument_name': 'Equity', 'rating': None, 'market_value': 95.952418, 'corpus_per': 2.35227555, 'market_cap': None, 'rating_market_cap': None, 'stock_search_id': 'hindustan-petroleum-corporation-ltd'}, {'scheme_code': '152202', 'portfolio_date': '2024-02-29T00:00:00.570Z', 'company_name': 'Larsen & Toubro Ltd.', 'nature_name': 'EQ', 'sector_name': 'Construction', 'instrument_name': 'Equity', 'rating': None, 'market_value': 93.89385, 'corpus_per': 2.30180972, 'market_cap': None, 'rating_market_cap': None, 'stock_search_id': 'larsen-toubro-ltd'}, {'scheme_code': '152202', 'portfolio_date': '2024-02-29T00:00:00.570Z', 'company_name': 'Tata Steel Ltd.', 'nature_name': 'EQ', 'sector_name': 'Metals & Mining', 'instrument_name': 'Equity', 'rating': None, 'market_value': 88.34112, 'corpus_per': 2.16568442, 'market_cap': None, 'rating_market_cap': None, 'stock_search_id': 'tata-steel-ltd'}, {'scheme_code': '152202', 'portfolio_date': '2024-02-29T00:00:00.570Z', 'company_name': 'Siemens Ltd.', 'nature_name': 'EQ', 'sector_name': 'Capital Goods', 'instrument_name': 'Equity', 'rating': None, 'market_value': 83.601352, 'corpus_per': 2.04948891, 'market_cap': None, 'rating_market_cap': None, 'stock_search_id': 'siemens-ltd'}, {'scheme_code': '152202', 'portfolio_date': '2024-02-29T00:00:00.570Z', 'company_name': 'Cummins India Ltd.', 'nature_name': 'EQ', 'sector_name': 'Capital Goods', 'instrument_name': 'Equity', 'rating': None, 'market_value': 77.11162, 'corpus_per': 1.89039299, 'market_cap': None, 'rating_market_cap': None, 'stock_search_id': 'cummins-india-ltd'}, {'scheme_code': '152202', 'portfolio_date': '2024-02-29T00:00:00.570Z', 'company_name': 'Torrent Pharmaceuticals Ltd.', 'nature_name': 'EQ', 'sector_name': 'Healthcare', 'instrument_name': 'Equity', 'rating': None, 'market_value': 76.588521, 'corpus_per': 1.87756921, 'market_cap': None, 'rating_market_cap': None, 'stock_search_id': 'torrent-pharmaceuticals-ltd'}, {'scheme_code': '152202', 'portfolio_date': '2024-02-29T00:00:00.570Z', 'company_name': 'Sona BLW Precision Forgings Ltd.', 'nature_name': 'EQ', 'sector_name': 'Automobile', 'instrument_name': 'Equity', 'rating': None, 'market_value': 74.033502, 'corpus_per': 1.81493286, 'market_cap': None, 'rating_market_cap': None, 'stock_search_id': 'sona-blw-precision-forgings-ltd'}, {'scheme_code': '152202', 'portfolio_date': '2024-02-29T00:00:00.570Z', 'company_name': 'Indian Oil Corporation Ltd.', 'nature_name': 'EQ', 'sector_name': 'Energy', 'instrument_name': 'Equity', 'rating': None, 'market_value': 72.369106, 'corpus_per': 1.77413016, 'market_cap': None, 'rating_market_cap': None, 'stock_search_id': 'indian-oil-corporation-ltd'}, {'scheme_code': '152202', 'portfolio_date': '2024-02-29T00:00:00.570Z', 'company_name': 'Minda Corporation Ltd.', 'nature_name': 'EQ', 'sector_name': 'Automobile', 'instrument_name': 'Equity', 'rating': None, 'market_value': 67.966735, 'corpus_per': 1.66620594, 'market_cap': None, 'rating_market_cap': None, 'stock_search_id': 'minda-corporation-ltd'}, {'scheme_code': '152202', 'portfolio_date': '2024-02-29T00:00:00.570Z', 'company_name': 'Hindalco Industries Ltd.', 'nature_name': 'EQ', 'sector_name': 'Metals & Mining', 'instrument_name': 'Equity', 'rating': None, 'market_value': 66.522358, 'corpus_per': 1.63079701, 'market_cap': None, 'rating_market_cap': None, 'stock_search_id': 'hindalco-industries-ltd'}, {'scheme_code': '152202', 'portfolio_date': '2024-02-29T00:00:00.570Z', 'company_name': 'ABB India Ltd.', 'nature_name': 'EQ', 'sector_name': 'Capital Goods', 'instrument_name': 'Equity', 'rating': None, 'market_value': 66.085903, 'corpus_per': 1.62009731, 'market_cap': None, 'rating_market_cap': None, 'stock_search_id': 'abb-india-ltd'}, {'scheme_code': '152202', 'portfolio_date': '2024-02-29T00:00:00.570Z', 'company_name': 'Mankind Pharma Ltd.', 'nature_name': 'EQ', 'sector_name': 'Healthcare', 'instrument_name': 'Equity', 'rating': None, 'market_value': 61.65285, 'corpus_per': 1.51142092, 'market_cap': None, 'rating_market_cap': None, 'stock_search_id': 'mankind-pharma-ltd'}, {'scheme_code': '152202', 'portfolio_date': '2024-02-29T00:00:00.570Z', 'company_name': 'Jindal Steel & Power Ltd.', 'nature_name': 'EQ', 'sector_name': 'Metals & Mining', 'instrument_name': 'Equity', 'rating': None, 'market_value': 59.925801, 'corpus_per': 1.46908228, 'market_cap': None, 'rating_market_cap': None, 'stock_search_id': 'jindal-steel-power-ltd'}, {'scheme_code': '152202', 'portfolio_date': '2024-02-29T00:00:00.570Z', 'company_name': 'Hindustan Aeronautics Ltd.', 'nature_name': 'EQ', 'sector_name': 'Capital Goods', 'instrument_name': 'Equity', 'rating': None, 'market_value': 56.222232, 'corpus_per': 1.3782892, 'market_cap': None, 'rating_market_cap': None, 'stock_search_id': 'hindustan-aeronautics-ltd'}, {'scheme_code': '152202', 'portfolio_date': '2024-02-29T00:00:00.570Z', 'company_name': 'Apar Industries Ltd.', 'nature_name': 'EQ', 'sector_name': 'Diversified', 'instrument_name': 'Equity', 'rating': None, 'market_value': 54.094073, 'corpus_per': 1.32611734, 'market_cap': None, 'rating_market_cap': None, 'stock_search_id': 'apar-industries-ltd'}, {'scheme_code': '152202', 'portfolio_date': '2024-02-29T00:00:00.570Z', 'company_name': 'Pidilite Industries Ltd.', 'nature_name': 'EQ', 'sector_name': 'Chemicals', 'instrument_name': 'Equity', 'rating': None, 'market_value': 53.444203, 'corpus_per': 1.31018576, 'market_cap': None, 'rating_market_cap': None, 'stock_search_id': 'pidilite-industries-ltd'}, {'scheme_code': '152202', 'portfolio_date': '2024-02-29T00:00:00.570Z', 'company_name': 'Kei Industries Ltd.', 'nature_name': 'EQ', 'sector_name': 'Capital Goods', 'instrument_name': 'Equity', 'rating': None, 'market_value': 52.613918, 'corpus_per': 1.28983131, 'market_cap': None, 'rating_market_cap': None, 'stock_search_id': 'kei-industries-ltd'}, {'scheme_code': '152202', 'portfolio_date': '2024-02-29T00:00:00.570Z', 'company_name': 'Ajanta Pharma Ltd.', 'nature_name': 'EQ', 'sector_name': 'Healthcare', 'instrument_name': 'Equity', 'rating': None, 'market_value': 51.459427, 'corpus_per': 1.26152894, 'market_cap': None, 'rating_market_cap': None, 'stock_search_id': 'ajanta-pharma-ltd'}, {'scheme_code': '152202', 'portfolio_date': '2024-02-29T00:00:00.570Z', 'company_name': 'Voltas Ltd.', 'nature_name': 'EQ', 'sector_name': 'Consumer Discretionary', 'instrument_name': 'Equity', 'rating': None, 'market_value': 50.563536, 'corpus_per': 1.23956615, 'market_cap': None, 'rating_market_cap': None, 'stock_search_id': 'voltas-ltd'}, {'scheme_code': '152202', 'portfolio_date': '2024-02-29T00:00:00.570Z', 'company_name': 'Jyoti CNC Automation Ltd.', 'nature_name': 'EQ', 'sector_name': 'Capital Goods', 'instrument_name': 'Equity', 'rating': None, 'market_value': 49.23322, 'corpus_per': 1.20695343, 'market_cap': None, 'rating_market_cap': None, 'stock_search_id': 'jyoti-cnc-automation-ltd'}, {'scheme_code': '152202', 'portfolio_date': '2024-02-29T00:00:00.570Z', 'company_name': 'TVS Motor Company Ltd.', 'nature_name': 'EQ', 'sector_name': 'Automobile', 'instrument_name': 'Equity', 'rating': None, 'market_value': 48.72627, 'corpus_per': 1.19452554, 'market_cap': None, 'rating_market_cap': None, 'stock_search_id': 'tvs-motor-company-ltd'}, {'scheme_code': '152202', 'portfolio_date': '2024-02-29T00:00:00.570Z', 'company_name': 'JB Chemicals & Pharmaceuticals Ltd.', 'nature_name': 'EQ', 'sector_name': 'Healthcare', 'instrument_name': 'Equity', 'rating': None, 'market_value': 45.988205, 'corpus_per': 1.12740181, 'market_cap': None, 'rating_market_cap': None, 'stock_search_id': 'jb-chemicals-pharmaceuticals-ltd'}, {'scheme_code': '152202', 'portfolio_date': '2024-02-29T00:00:00.570Z', 'company_name': 'Linde India Ltd.', 'nature_name': 'EQ', 'sector_name': 'Chemicals', 'instrument_name': 'Equity', 'rating': None, 'market_value': 45.156979, 'corpus_per': 1.10702429, 'market_cap': None, 'rating_market_cap': None, 'stock_search_id': 'linde-india-ltd'}, {'scheme_code': '152202', 'portfolio_date': '2024-02-29T00:00:00.570Z', 'company_name': 'Bharat Forge Ltd.', 'nature_name': 'EQ', 'sector_name': 'Automobile', 'instrument_name': 'Equity', 'rating': None, 'market_value': 44.315572, 'corpus_per': 1.08639718, 'market_cap': None, 'rating_market_cap': None, 'stock_search_id': 'bharat-forge-ltd'}, {'scheme_code': '152202', 'portfolio_date': '2024-02-29T00:00:00.570Z', 'company_name': 'Schaeffler India Ltd.', 'nature_name': 'EQ', 'sector_name': 'Capital Goods', 'instrument_name': 'Equity', 'rating': None, 'market_value': 43.970271, 'corpus_per': 1.07793212, 'market_cap': None, 'rating_market_cap': None, 'stock_search_id': 'schaeffler-india-ltd'}, {'scheme_code': '152202', 'portfolio_date': '2024-02-29T00:00:00.570Z', 'company_name': 'NTPC Ltd.', 'nature_name': 'EQ', 'sector_name': 'Energy', 'instrument_name': 'Equity', 'rating': None, 'market_value': 43.628, 'corpus_per': 1.06954134, 'market_cap': None, 'rating_market_cap': None, 'stock_search_id': 'ntpc-ltd'}, {'scheme_code': '152202', 'portfolio_date': '2024-02-29T00:00:00.570Z', 'company_name': 'Kaynes Technology India Ltd.', 'nature_name': 'EQ', 'sector_name': 'Capital Goods', 'instrument_name': 'Equity', 'rating': None, 'market_value': 41.596931, 'corpus_per': 1.01974964, 'market_cap': None, 'rating_market_cap': None, 'stock_search_id': 'kaynes-technology-india-ltd'}, {'scheme_code': '152202', 'portfolio_date': '2024-02-29T00:00:00.570Z', 'company_name': 'UNO Minda Ltd.', 'nature_name': 'EQ', 'sector_name': 'Automobile', 'instrument_name': 'Equity', 'rating': None, 'market_value': 41.154821, 'corpus_per': 1.0089113, 'market_cap': None, 'rating_market_cap': None, 'stock_search_id': 'minda-industries-ltd'}, {'scheme_code': '152202', 'portfolio_date': '2024-02-29T00:00:00.570Z', 'company_name': 'Adani Ports and Special Economic Zone Ltd.', 'nature_name': 'EQ', 'sector_name': 'Services', 'instrument_name': 'Equity', 'rating': None, 'market_value': 40.9355, 'corpus_per': 1.00353464, 'market_cap': None, 'rating_market_cap': None, 'stock_search_id': 'adani-ports-and-special-economic-zone-ltd'}, {'scheme_code': '152202', 'portfolio_date': '2024-02-29T00:00:00.570Z', 'company_name': 'Solar Industries India Ltd.', 'nature_name': 'EQ', 'sector_name': 'Chemicals', 'instrument_name': 'Equity', 'rating': None, 'market_value': 38.038027, 'corpus_per': 0.93250303, 'market_cap': None, 'rating_market_cap': None, 'stock_search_id': 'solar-industries-india-ltd'}, {'scheme_code': '152202', 'portfolio_date': '2024-02-29T00:00:00.570Z', 'company_name': 'Godrej Consumer Products Ltd.', 'nature_name': 'EQ', 'sector_name': 'Consumer Staples', 'instrument_name': 'Equity', 'rating': None, 'market_value': 37.731, 'corpus_per': 0.92497626, 'market_cap': None, 'rating_market_cap': None, 'stock_search_id': 'godrej-consumer-products-ltd'}, {'scheme_code': '152202', 'portfolio_date': '2024-02-29T00:00:00.570Z', 'company_name': 'Prestige Estates Projects Ltd.', 'nature_name': 'EQ', 'sector_name': 'Construction', 'instrument_name': 'Equity', 'rating': None, 'market_value': 37.336, 'corpus_per': 0.91529283, 'market_cap': None, 'rating_market_cap': None, 'stock_search_id': 'prestige-estate-projects-ltd'}, {'scheme_code': '152202', 'portfolio_date': '2024-02-29T00:00:00.570Z', 'company_name': 'Varun Beverages Ltd.', 'nature_name': 'EQ', 'sector_name': 'Consumer Staples', 'instrument_name': 'Equity', 'rating': None, 'market_value': 37.09665, 'corpus_per': 0.90942516, 'market_cap': None, 'rating_market_cap': None, 'stock_search_id': 'varun-beverages-ltd'}, {'scheme_code': '152202', 'portfolio_date': '2024-02-29T00:00:00.570Z', 'company_name': 'CG Power and Industrial Solutions Ltd.', 'nature_name': 'EQ', 'sector_name': 'Capital Goods', 'instrument_name': 'Equity', 'rating': None, 'market_value': 33.687, 'corpus_per': 0.82583751, 'market_cap': None, 'rating_market_cap': None, 'stock_search_id': 'cg-power-industrial-solutions-ltd'}, {'scheme_code': '152202', 'portfolio_date': '2024-02-29T00:00:00.570Z', 'company_name': 'Carborundum Universal Ltd.', 'nature_name': 'EQ', 'sector_name': 'Metals & Mining', 'instrument_name': 'Equity', 'rating': None, 'market_value': 33.079009, 'corpus_per': 0.8109326, 'market_cap': None, 'rating_market_cap': None, 'stock_search_id': 'carborundum-universal-ltd'}, {'scheme_code': '152202', 'portfolio_date': '2024-02-29T00:00:00.570Z', 'company_name': 'Sansera Engineering Ltd.', 'nature_name': 'EQ', 'sector_name': 'Automobile', 'instrument_name': 'Equity', 'rating': None, 'market_value': 32.35701, 'corpus_per': 0.79323278, 'market_cap': None, 'rating_market_cap': None, 'stock_search_id': 'sansera-engineering-ltd'}, {'scheme_code': '152202', 'portfolio_date': '2024-02-29T00:00:00.570Z', 'company_name': 'Bharat Petroleum Corporation Ltd.', 'nature_name': 'EQ', 'sector_name': 'Energy', 'instrument_name': 'Equity', 'rating': None, 'market_value': 30.855346, 'corpus_per': 0.75641946, 'market_cap': None, 'rating_market_cap': None, 'stock_search_id': 'bharat-petroleum-corporation-ltd'}, {'scheme_code': '152202', 'portfolio_date': '2024-02-29T00:00:00.570Z', 'company_name': 'Fortis Healthcare Ltd.', 'nature_name': 'EQ', 'sector_name': 'Healthcare', 'instrument_name': 'Equity', 'rating': None, 'market_value': 30.825869, 'corpus_per': 0.75569683, 'market_cap': None, 'rating_market_cap': None, 'stock_search_id': 'fortis-healthcare-ltd'}, {'scheme_code': '152202', 'portfolio_date': '2024-02-29T00:00:00.570Z', 'company_name': 'Coal India Ltd.', 'nature_name': 'EQ', 'sector_name': 'Energy', 'instrument_name': 'Equity', 'rating': None, 'market_value': 28.578303, 'corpus_per': 0.7005977, 'market_cap': None, 'rating_market_cap': None, 'stock_search_id': 'coal-india-ltd'}, {'scheme_code': '152202', 'portfolio_date': '2024-02-29T00:00:00.570Z', 'company_name': 'R R Kabel Ltd.', 'nature_name': 'EQ', 'sector_name': 'Consumer Discretionary', 'instrument_name': 'Equity', 'rating': None, 'market_value': 28.199021, 'corpus_per': 0.69129959, 'market_cap': None, 'rating_market_cap': None, 'stock_search_id': 'rr-kabel-ltd'}, {'scheme_code': '152202', 'portfolio_date': '2024-02-29T00:00:00.570Z', 'company_name': 'Rolex Rings Ltd', 'nature_name': 'EQ', 'sector_name': 'Capital Goods', 'instrument_name': 'Equity', 'rating': None, 'market_value': 25.297167, 'corpus_per': 0.62016058, 'market_cap': None, 'rating_market_cap': None, 'stock_search_id': 'rolex-rings-ltd-311'}, {'scheme_code': '152202', 'portfolio_date': '2024-02-29T00:00:00.570Z', 'company_name': 'Dixon Technologies (India) Ltd.', 'nature_name': 'EQ', 'sector_name': 'Capital Goods', 'instrument_name': 'Equity', 'rating': None, 'market_value': 24.780374, 'corpus_per': 0.60749139, 'market_cap': None, 'rating_market_cap': None, 'stock_search_id': 'dixon-technologies-india-ltd'}, {'scheme_code': '152202', 'portfolio_date': '2024-02-29T00:00:00.570Z', 'company_name': 'Hitachi Energy India Ltd.', 'nature_name': 'EQ', 'sector_name': 'Capital Goods', 'instrument_name': 'Equity', 'rating': None, 'market_value': 24.0168, 'corpus_per': 0.58877236, 'market_cap': None, 'rating_market_cap': None, 'stock_search_id': 'abb-power-products-systems-india-ltd'}, {'scheme_code': '152202', 'portfolio_date': '2024-02-29T00:00:00.570Z', 'company_name': 'Torrent Power Ltd.', 'nature_name': 'EQ', 'sector_name': 'Energy', 'instrument_name': 'Equity', 'rating': None, 'market_value': 23.072996, 'corpus_per': 0.56563498, 'market_cap': None, 'rating_market_cap': None, 'stock_search_id': 'torrent-power-ltd'}, {'scheme_code': '152202', 'portfolio_date': '2024-02-29T00:00:00.570Z', 'company_name': 'RHI Magnesita India Ltd.', 'nature_name': 'EQ', 'sector_name': 'Construction', 'instrument_name': 'Equity', 'rating': None, 'market_value': 22.286938, 'corpus_per': 0.54636475, 'market_cap': None, 'rating_market_cap': None, 'stock_search_id': 'orient-refractories-ltd'}, {'scheme_code': '152202', 'portfolio_date': '2024-02-29T00:00:00.570Z', 'company_name': 'Bharat Dynamics Ltd.', 'nature_name': 'EQ', 'sector_name': 'Capital Goods', 'instrument_name': 'Equity', 'rating': None, 'market_value': 21.543306, 'corpus_per': 0.5281346, 'market_cap': None, 'rating_market_cap': None, 'stock_search_id': 'bharat-dynamics-ltd'}, {'scheme_code': '152202', 'portfolio_date': '2024-02-29T00:00:00.570Z', 'company_name': 'PI Industries Ltd.', 'nature_name': 'EQ', 'sector_name': 'Chemicals', 'instrument_name': 'Equity', 'rating': None, 'market_value': 21.12537, 'corpus_per': 0.51788889, 'market_cap': None, 'rating_market_cap': None, 'stock_search_id': 'pi-industries-ltd'}, {'scheme_code': '152202', 'portfolio_date': '2024-02-29T00:00:00.570Z', 'company_name': 'Max Healthcare Institute Ltd.', 'nature_name': 'EQ', 'sector_name': 'Healthcare', 'instrument_name': 'Equity', 'rating': None, 'market_value': 20.325072, 'corpus_per': 0.49826957, 'market_cap': None, 'rating_market_cap': None, 'stock_search_id': 'max-healthcare-institute-ltd'}, {'scheme_code': '152202', 'portfolio_date': '2024-02-29T00:00:00.570Z', 'company_name': 'Ultratech Cement Ltd.', 'nature_name': 'EQ', 'sector_name': 'Construction', 'instrument_name': 'Equity', 'rating': None, 'market_value': 19.7848, 'corpus_per': 0.48502479, 'market_cap': None, 'rating_market_cap': None, 'stock_search_id': 'ultratech-cement-ltd'}, {'scheme_code': '152202', 'portfolio_date': '2024-02-29T00:00:00.570Z', 'company_name': 'Lupin Ltd.', 'nature_name': 'EQ', 'sector_name': 'Healthcare', 'instrument_name': 'Equity', 'rating': None, 'market_value': 19.581473, 'corpus_per': 0.48004022, 'market_cap': None, 'rating_market_cap': None, 'stock_search_id': 'lupin-ltd'}, {'scheme_code': '152202', 'portfolio_date': '2024-02-29T00:00:00.570Z', 'company_name': 'Jupiter Life Line Hospitals Ltd.', 'nature_name': 'EQ', 'sector_name': 'Healthcare', 'instrument_name': 'Equity', 'rating': None, 'market_value': 18.975158, 'corpus_per': 0.4651764, 'market_cap': None, 'rating_market_cap': None, 'stock_search_id': 'jupiter-life-line-hospitals-ltd'}, {'scheme_code': '152202', 'portfolio_date': '2024-02-29T00:00:00.570Z', 'company_name': 'Happy Forgings Ltd.', 'nature_name': 'EQ', 'sector_name': 'Metals & Mining', 'instrument_name': 'Equity', 'rating': None, 'market_value': 18.420964, 'corpus_per': 0.45159032, 'market_cap': None, 'rating_market_cap': None, 'stock_search_id': 'happy-forgings-ltd'}, {'scheme_code': '152202', 'portfolio_date': '2024-02-29T00:00:00.570Z', 'company_name': 'JK Cement Ltd.', 'nature_name': 'EQ', 'sector_name': 'Construction', 'instrument_name': 'Equity', 'rating': None, 'market_value': 18.0596, 'corpus_per': 0.44273147, 'market_cap': None, 'rating_market_cap': None, 'stock_search_id': 'jk-cement-ltd'}, {'scheme_code': '152202', 'portfolio_date': '2024-02-29T00:00:00.570Z', 'company_name': 'Godrej Properties Ltd.', 'nature_name': 'EQ', 'sector_name': 'Construction', 'instrument_name': 'Equity', 'rating': None, 'market_value': 16.78635, 'corpus_per': 0.41151772, 'market_cap': None, 'rating_market_cap': None, 'stock_search_id': 'godrej-properties-ltd'}, {'scheme_code': '152202', 'portfolio_date': '2024-02-29T00:00:00.570Z', 'company_name': 'Suven Pharmaceuticals Ltd.', 'nature_name': 'EQ', 'sector_name': 'Healthcare', 'instrument_name': 'Equity', 'rating': None, 'market_value': 12.588, 'corpus_per': 0.30859508, 'market_cap': None, 'rating_market_cap': None, 'stock_search_id': 'suven-pharmaceuticals-ltd'}, {'scheme_code': '152202', 'portfolio_date': '2024-02-29T00:00:00.570Z', 'company_name': 'Craftsman Automation Ltd.', 'nature_name': 'EQ', 'sector_name': 'Automobile', 'instrument_name': 'Equity', 'rating': None, 'market_value': 12.56655, 'corpus_per': 0.30806923, 'market_cap': None, 'rating_market_cap': None, 'stock_search_id': 'craftsman-automation-ltd'}, {'scheme_code': '152202', 'portfolio_date': '2024-02-29T00:00:00.570Z', 'company_name': 'Grindwell Norton Ltd.', 'nature_name': 'EQ', 'sector_name': 'Metals & Mining', 'instrument_name': 'Equity', 'rating': None, 'market_value': 8.199635, 'corpus_per': 0.20101422, 'market_cap': None, 'rating_market_cap': None, 'stock_search_id': 'grindwell-norton-ltd'}, {'scheme_code': '152202', 'portfolio_date': '2024-02-29T00:00:00.570Z', 'company_name': 'Triveni Turbine Ltd.', 'nature_name': 'EQ', 'sector_name': 'Construction', 'instrument_name': 'Equity', 'rating': None, 'market_value': 5.754758, 'corpus_per': 0.14107801, 'market_cap': None, 'rating_market_cap': None, 'stock_search_id': 'triveni-turbine-ltd'}, {'scheme_code': '152202', 'portfolio_date': '2024-02-29T00:00:00.570Z', 'company_name': \"Rainbow Children's Medicare Ltd.\", 'nature_name': 'EQ', 'sector_name': 'Healthcare', 'instrument_name': 'Equity', 'rating': None, 'market_value': 4.539834, 'corpus_per': 0.11129412, 'market_cap': None, 'rating_market_cap': None, 'stock_search_id': 'rainbow-childrens-medicare-ltd'}]\n"
     ]
    }
   ],
   "source": [
    "print(holdings)"
   ]
  },
  {
   "cell_type": "code",
   "execution_count": 74,
   "metadata": {},
   "outputs": [
    {
     "data": {
      "application/vnd.plotly.v1+json": {
       "config": {
        "plotlyServerURL": "https://plot.ly"
       },
       "data": [
        {
         "domain": {
          "x": [
           0,
           1
          ],
          "y": [
           0,
           1
          ]
         },
         "hovertemplate": "label=%{label}<br>value=%{value}<extra></extra>",
         "labels": [
          "Equity - Diversified",
          "Equity - Sector - Auto",
          "Equity - Sector - Pharma",
          "Equity - Sector - Technology",
          "Index Funds",
          "Fund of Funds - Gold"
         ],
         "legendgroup": "",
         "name": "",
         "showlegend": true,
         "type": "pie",
         "values": [
          14,
          1,
          1,
          1,
          1,
          1
         ]
        }
       ],
       "layout": {
        "legend": {
         "tracegroupgap": 0
        },
        "template": {
         "data": {
          "bar": [
           {
            "error_x": {
             "color": "#2a3f5f"
            },
            "error_y": {
             "color": "#2a3f5f"
            },
            "marker": {
             "line": {
              "color": "#E5ECF6",
              "width": 0.5
             },
             "pattern": {
              "fillmode": "overlay",
              "size": 10,
              "solidity": 0.2
             }
            },
            "type": "bar"
           }
          ],
          "barpolar": [
           {
            "marker": {
             "line": {
              "color": "#E5ECF6",
              "width": 0.5
             },
             "pattern": {
              "fillmode": "overlay",
              "size": 10,
              "solidity": 0.2
             }
            },
            "type": "barpolar"
           }
          ],
          "carpet": [
           {
            "aaxis": {
             "endlinecolor": "#2a3f5f",
             "gridcolor": "white",
             "linecolor": "white",
             "minorgridcolor": "white",
             "startlinecolor": "#2a3f5f"
            },
            "baxis": {
             "endlinecolor": "#2a3f5f",
             "gridcolor": "white",
             "linecolor": "white",
             "minorgridcolor": "white",
             "startlinecolor": "#2a3f5f"
            },
            "type": "carpet"
           }
          ],
          "choropleth": [
           {
            "colorbar": {
             "outlinewidth": 0,
             "ticks": ""
            },
            "type": "choropleth"
           }
          ],
          "contour": [
           {
            "colorbar": {
             "outlinewidth": 0,
             "ticks": ""
            },
            "colorscale": [
             [
              0,
              "#0d0887"
             ],
             [
              0.1111111111111111,
              "#46039f"
             ],
             [
              0.2222222222222222,
              "#7201a8"
             ],
             [
              0.3333333333333333,
              "#9c179e"
             ],
             [
              0.4444444444444444,
              "#bd3786"
             ],
             [
              0.5555555555555556,
              "#d8576b"
             ],
             [
              0.6666666666666666,
              "#ed7953"
             ],
             [
              0.7777777777777778,
              "#fb9f3a"
             ],
             [
              0.8888888888888888,
              "#fdca26"
             ],
             [
              1,
              "#f0f921"
             ]
            ],
            "type": "contour"
           }
          ],
          "contourcarpet": [
           {
            "colorbar": {
             "outlinewidth": 0,
             "ticks": ""
            },
            "type": "contourcarpet"
           }
          ],
          "heatmap": [
           {
            "colorbar": {
             "outlinewidth": 0,
             "ticks": ""
            },
            "colorscale": [
             [
              0,
              "#0d0887"
             ],
             [
              0.1111111111111111,
              "#46039f"
             ],
             [
              0.2222222222222222,
              "#7201a8"
             ],
             [
              0.3333333333333333,
              "#9c179e"
             ],
             [
              0.4444444444444444,
              "#bd3786"
             ],
             [
              0.5555555555555556,
              "#d8576b"
             ],
             [
              0.6666666666666666,
              "#ed7953"
             ],
             [
              0.7777777777777778,
              "#fb9f3a"
             ],
             [
              0.8888888888888888,
              "#fdca26"
             ],
             [
              1,
              "#f0f921"
             ]
            ],
            "type": "heatmap"
           }
          ],
          "heatmapgl": [
           {
            "colorbar": {
             "outlinewidth": 0,
             "ticks": ""
            },
            "colorscale": [
             [
              0,
              "#0d0887"
             ],
             [
              0.1111111111111111,
              "#46039f"
             ],
             [
              0.2222222222222222,
              "#7201a8"
             ],
             [
              0.3333333333333333,
              "#9c179e"
             ],
             [
              0.4444444444444444,
              "#bd3786"
             ],
             [
              0.5555555555555556,
              "#d8576b"
             ],
             [
              0.6666666666666666,
              "#ed7953"
             ],
             [
              0.7777777777777778,
              "#fb9f3a"
             ],
             [
              0.8888888888888888,
              "#fdca26"
             ],
             [
              1,
              "#f0f921"
             ]
            ],
            "type": "heatmapgl"
           }
          ],
          "histogram": [
           {
            "marker": {
             "pattern": {
              "fillmode": "overlay",
              "size": 10,
              "solidity": 0.2
             }
            },
            "type": "histogram"
           }
          ],
          "histogram2d": [
           {
            "colorbar": {
             "outlinewidth": 0,
             "ticks": ""
            },
            "colorscale": [
             [
              0,
              "#0d0887"
             ],
             [
              0.1111111111111111,
              "#46039f"
             ],
             [
              0.2222222222222222,
              "#7201a8"
             ],
             [
              0.3333333333333333,
              "#9c179e"
             ],
             [
              0.4444444444444444,
              "#bd3786"
             ],
             [
              0.5555555555555556,
              "#d8576b"
             ],
             [
              0.6666666666666666,
              "#ed7953"
             ],
             [
              0.7777777777777778,
              "#fb9f3a"
             ],
             [
              0.8888888888888888,
              "#fdca26"
             ],
             [
              1,
              "#f0f921"
             ]
            ],
            "type": "histogram2d"
           }
          ],
          "histogram2dcontour": [
           {
            "colorbar": {
             "outlinewidth": 0,
             "ticks": ""
            },
            "colorscale": [
             [
              0,
              "#0d0887"
             ],
             [
              0.1111111111111111,
              "#46039f"
             ],
             [
              0.2222222222222222,
              "#7201a8"
             ],
             [
              0.3333333333333333,
              "#9c179e"
             ],
             [
              0.4444444444444444,
              "#bd3786"
             ],
             [
              0.5555555555555556,
              "#d8576b"
             ],
             [
              0.6666666666666666,
              "#ed7953"
             ],
             [
              0.7777777777777778,
              "#fb9f3a"
             ],
             [
              0.8888888888888888,
              "#fdca26"
             ],
             [
              1,
              "#f0f921"
             ]
            ],
            "type": "histogram2dcontour"
           }
          ],
          "mesh3d": [
           {
            "colorbar": {
             "outlinewidth": 0,
             "ticks": ""
            },
            "type": "mesh3d"
           }
          ],
          "parcoords": [
           {
            "line": {
             "colorbar": {
              "outlinewidth": 0,
              "ticks": ""
             }
            },
            "type": "parcoords"
           }
          ],
          "pie": [
           {
            "automargin": true,
            "type": "pie"
           }
          ],
          "scatter": [
           {
            "fillpattern": {
             "fillmode": "overlay",
             "size": 10,
             "solidity": 0.2
            },
            "type": "scatter"
           }
          ],
          "scatter3d": [
           {
            "line": {
             "colorbar": {
              "outlinewidth": 0,
              "ticks": ""
             }
            },
            "marker": {
             "colorbar": {
              "outlinewidth": 0,
              "ticks": ""
             }
            },
            "type": "scatter3d"
           }
          ],
          "scattercarpet": [
           {
            "marker": {
             "colorbar": {
              "outlinewidth": 0,
              "ticks": ""
             }
            },
            "type": "scattercarpet"
           }
          ],
          "scattergeo": [
           {
            "marker": {
             "colorbar": {
              "outlinewidth": 0,
              "ticks": ""
             }
            },
            "type": "scattergeo"
           }
          ],
          "scattergl": [
           {
            "marker": {
             "colorbar": {
              "outlinewidth": 0,
              "ticks": ""
             }
            },
            "type": "scattergl"
           }
          ],
          "scattermapbox": [
           {
            "marker": {
             "colorbar": {
              "outlinewidth": 0,
              "ticks": ""
             }
            },
            "type": "scattermapbox"
           }
          ],
          "scatterpolar": [
           {
            "marker": {
             "colorbar": {
              "outlinewidth": 0,
              "ticks": ""
             }
            },
            "type": "scatterpolar"
           }
          ],
          "scatterpolargl": [
           {
            "marker": {
             "colorbar": {
              "outlinewidth": 0,
              "ticks": ""
             }
            },
            "type": "scatterpolargl"
           }
          ],
          "scatterternary": [
           {
            "marker": {
             "colorbar": {
              "outlinewidth": 0,
              "ticks": ""
             }
            },
            "type": "scatterternary"
           }
          ],
          "surface": [
           {
            "colorbar": {
             "outlinewidth": 0,
             "ticks": ""
            },
            "colorscale": [
             [
              0,
              "#0d0887"
             ],
             [
              0.1111111111111111,
              "#46039f"
             ],
             [
              0.2222222222222222,
              "#7201a8"
             ],
             [
              0.3333333333333333,
              "#9c179e"
             ],
             [
              0.4444444444444444,
              "#bd3786"
             ],
             [
              0.5555555555555556,
              "#d8576b"
             ],
             [
              0.6666666666666666,
              "#ed7953"
             ],
             [
              0.7777777777777778,
              "#fb9f3a"
             ],
             [
              0.8888888888888888,
              "#fdca26"
             ],
             [
              1,
              "#f0f921"
             ]
            ],
            "type": "surface"
           }
          ],
          "table": [
           {
            "cells": {
             "fill": {
              "color": "#EBF0F8"
             },
             "line": {
              "color": "white"
             }
            },
            "header": {
             "fill": {
              "color": "#C8D4E3"
             },
             "line": {
              "color": "white"
             }
            },
            "type": "table"
           }
          ]
         },
         "layout": {
          "annotationdefaults": {
           "arrowcolor": "#2a3f5f",
           "arrowhead": 0,
           "arrowwidth": 1
          },
          "autotypenumbers": "strict",
          "coloraxis": {
           "colorbar": {
            "outlinewidth": 0,
            "ticks": ""
           }
          },
          "colorscale": {
           "diverging": [
            [
             0,
             "#8e0152"
            ],
            [
             0.1,
             "#c51b7d"
            ],
            [
             0.2,
             "#de77ae"
            ],
            [
             0.3,
             "#f1b6da"
            ],
            [
             0.4,
             "#fde0ef"
            ],
            [
             0.5,
             "#f7f7f7"
            ],
            [
             0.6,
             "#e6f5d0"
            ],
            [
             0.7,
             "#b8e186"
            ],
            [
             0.8,
             "#7fbc41"
            ],
            [
             0.9,
             "#4d9221"
            ],
            [
             1,
             "#276419"
            ]
           ],
           "sequential": [
            [
             0,
             "#0d0887"
            ],
            [
             0.1111111111111111,
             "#46039f"
            ],
            [
             0.2222222222222222,
             "#7201a8"
            ],
            [
             0.3333333333333333,
             "#9c179e"
            ],
            [
             0.4444444444444444,
             "#bd3786"
            ],
            [
             0.5555555555555556,
             "#d8576b"
            ],
            [
             0.6666666666666666,
             "#ed7953"
            ],
            [
             0.7777777777777778,
             "#fb9f3a"
            ],
            [
             0.8888888888888888,
             "#fdca26"
            ],
            [
             1,
             "#f0f921"
            ]
           ],
           "sequentialminus": [
            [
             0,
             "#0d0887"
            ],
            [
             0.1111111111111111,
             "#46039f"
            ],
            [
             0.2222222222222222,
             "#7201a8"
            ],
            [
             0.3333333333333333,
             "#9c179e"
            ],
            [
             0.4444444444444444,
             "#bd3786"
            ],
            [
             0.5555555555555556,
             "#d8576b"
            ],
            [
             0.6666666666666666,
             "#ed7953"
            ],
            [
             0.7777777777777778,
             "#fb9f3a"
            ],
            [
             0.8888888888888888,
             "#fdca26"
            ],
            [
             1,
             "#f0f921"
            ]
           ]
          },
          "colorway": [
           "#636efa",
           "#EF553B",
           "#00cc96",
           "#ab63fa",
           "#FFA15A",
           "#19d3f3",
           "#FF6692",
           "#B6E880",
           "#FF97FF",
           "#FECB52"
          ],
          "font": {
           "color": "#2a3f5f"
          },
          "geo": {
           "bgcolor": "white",
           "lakecolor": "white",
           "landcolor": "#E5ECF6",
           "showlakes": true,
           "showland": true,
           "subunitcolor": "white"
          },
          "hoverlabel": {
           "align": "left"
          },
          "hovermode": "closest",
          "mapbox": {
           "style": "light"
          },
          "paper_bgcolor": "white",
          "plot_bgcolor": "#E5ECF6",
          "polar": {
           "angularaxis": {
            "gridcolor": "white",
            "linecolor": "white",
            "ticks": ""
           },
           "bgcolor": "#E5ECF6",
           "radialaxis": {
            "gridcolor": "white",
            "linecolor": "white",
            "ticks": ""
           }
          },
          "scene": {
           "xaxis": {
            "backgroundcolor": "#E5ECF6",
            "gridcolor": "white",
            "gridwidth": 2,
            "linecolor": "white",
            "showbackground": true,
            "ticks": "",
            "zerolinecolor": "white"
           },
           "yaxis": {
            "backgroundcolor": "#E5ECF6",
            "gridcolor": "white",
            "gridwidth": 2,
            "linecolor": "white",
            "showbackground": true,
            "ticks": "",
            "zerolinecolor": "white"
           },
           "zaxis": {
            "backgroundcolor": "#E5ECF6",
            "gridcolor": "white",
            "gridwidth": 2,
            "linecolor": "white",
            "showbackground": true,
            "ticks": "",
            "zerolinecolor": "white"
           }
          },
          "shapedefaults": {
           "line": {
            "color": "#2a3f5f"
           }
          },
          "ternary": {
           "aaxis": {
            "gridcolor": "white",
            "linecolor": "white",
            "ticks": ""
           },
           "baxis": {
            "gridcolor": "white",
            "linecolor": "white",
            "ticks": ""
           },
           "bgcolor": "#E5ECF6",
           "caxis": {
            "gridcolor": "white",
            "linecolor": "white",
            "ticks": ""
           }
          },
          "title": {
           "x": 0.05
          },
          "xaxis": {
           "automargin": true,
           "gridcolor": "white",
           "linecolor": "white",
           "ticks": "",
           "title": {
            "standoff": 15
           },
           "zerolinecolor": "white",
           "zerolinewidth": 2
          },
          "yaxis": {
           "automargin": true,
           "gridcolor": "white",
           "linecolor": "white",
           "ticks": "",
           "title": {
            "standoff": 15
           },
           "zerolinecolor": "white",
           "zerolinewidth": 2
          }
         }
        },
        "title": {
         "text": "Pie Chart of Categories"
        }
       }
      },
      "text/html": [
       "<div>                            <div id=\"c86c7c09-5529-4a4a-b5c7-f54dbcab6e65\" class=\"plotly-graph-div\" style=\"height:525px; width:100%;\"></div>            <script type=\"text/javascript\">                require([\"plotly\"], function(Plotly) {                    window.PLOTLYENV=window.PLOTLYENV || {};                                    if (document.getElementById(\"c86c7c09-5529-4a4a-b5c7-f54dbcab6e65\")) {                    Plotly.newPlot(                        \"c86c7c09-5529-4a4a-b5c7-f54dbcab6e65\",                        [{\"domain\":{\"x\":[0.0,1.0],\"y\":[0.0,1.0]},\"hovertemplate\":\"label=%{label}\\u003cbr\\u003evalue=%{value}\\u003cextra\\u003e\\u003c\\u002fextra\\u003e\",\"labels\":[\"Equity - Diversified\",\"Equity - Sector - Auto\",\"Equity - Sector - Pharma\",\"Equity - Sector - Technology\",\"Index Funds\",\"Fund of Funds - Gold\"],\"legendgroup\":\"\",\"name\":\"\",\"showlegend\":true,\"values\":[14,1,1,1,1,1],\"type\":\"pie\"}],                        {\"template\":{\"data\":{\"histogram2dcontour\":[{\"type\":\"histogram2dcontour\",\"colorbar\":{\"outlinewidth\":0,\"ticks\":\"\"},\"colorscale\":[[0.0,\"#0d0887\"],[0.1111111111111111,\"#46039f\"],[0.2222222222222222,\"#7201a8\"],[0.3333333333333333,\"#9c179e\"],[0.4444444444444444,\"#bd3786\"],[0.5555555555555556,\"#d8576b\"],[0.6666666666666666,\"#ed7953\"],[0.7777777777777778,\"#fb9f3a\"],[0.8888888888888888,\"#fdca26\"],[1.0,\"#f0f921\"]]}],\"choropleth\":[{\"type\":\"choropleth\",\"colorbar\":{\"outlinewidth\":0,\"ticks\":\"\"}}],\"histogram2d\":[{\"type\":\"histogram2d\",\"colorbar\":{\"outlinewidth\":0,\"ticks\":\"\"},\"colorscale\":[[0.0,\"#0d0887\"],[0.1111111111111111,\"#46039f\"],[0.2222222222222222,\"#7201a8\"],[0.3333333333333333,\"#9c179e\"],[0.4444444444444444,\"#bd3786\"],[0.5555555555555556,\"#d8576b\"],[0.6666666666666666,\"#ed7953\"],[0.7777777777777778,\"#fb9f3a\"],[0.8888888888888888,\"#fdca26\"],[1.0,\"#f0f921\"]]}],\"heatmap\":[{\"type\":\"heatmap\",\"colorbar\":{\"outlinewidth\":0,\"ticks\":\"\"},\"colorscale\":[[0.0,\"#0d0887\"],[0.1111111111111111,\"#46039f\"],[0.2222222222222222,\"#7201a8\"],[0.3333333333333333,\"#9c179e\"],[0.4444444444444444,\"#bd3786\"],[0.5555555555555556,\"#d8576b\"],[0.6666666666666666,\"#ed7953\"],[0.7777777777777778,\"#fb9f3a\"],[0.8888888888888888,\"#fdca26\"],[1.0,\"#f0f921\"]]}],\"heatmapgl\":[{\"type\":\"heatmapgl\",\"colorbar\":{\"outlinewidth\":0,\"ticks\":\"\"},\"colorscale\":[[0.0,\"#0d0887\"],[0.1111111111111111,\"#46039f\"],[0.2222222222222222,\"#7201a8\"],[0.3333333333333333,\"#9c179e\"],[0.4444444444444444,\"#bd3786\"],[0.5555555555555556,\"#d8576b\"],[0.6666666666666666,\"#ed7953\"],[0.7777777777777778,\"#fb9f3a\"],[0.8888888888888888,\"#fdca26\"],[1.0,\"#f0f921\"]]}],\"contourcarpet\":[{\"type\":\"contourcarpet\",\"colorbar\":{\"outlinewidth\":0,\"ticks\":\"\"}}],\"contour\":[{\"type\":\"contour\",\"colorbar\":{\"outlinewidth\":0,\"ticks\":\"\"},\"colorscale\":[[0.0,\"#0d0887\"],[0.1111111111111111,\"#46039f\"],[0.2222222222222222,\"#7201a8\"],[0.3333333333333333,\"#9c179e\"],[0.4444444444444444,\"#bd3786\"],[0.5555555555555556,\"#d8576b\"],[0.6666666666666666,\"#ed7953\"],[0.7777777777777778,\"#fb9f3a\"],[0.8888888888888888,\"#fdca26\"],[1.0,\"#f0f921\"]]}],\"surface\":[{\"type\":\"surface\",\"colorbar\":{\"outlinewidth\":0,\"ticks\":\"\"},\"colorscale\":[[0.0,\"#0d0887\"],[0.1111111111111111,\"#46039f\"],[0.2222222222222222,\"#7201a8\"],[0.3333333333333333,\"#9c179e\"],[0.4444444444444444,\"#bd3786\"],[0.5555555555555556,\"#d8576b\"],[0.6666666666666666,\"#ed7953\"],[0.7777777777777778,\"#fb9f3a\"],[0.8888888888888888,\"#fdca26\"],[1.0,\"#f0f921\"]]}],\"mesh3d\":[{\"type\":\"mesh3d\",\"colorbar\":{\"outlinewidth\":0,\"ticks\":\"\"}}],\"scatter\":[{\"fillpattern\":{\"fillmode\":\"overlay\",\"size\":10,\"solidity\":0.2},\"type\":\"scatter\"}],\"parcoords\":[{\"type\":\"parcoords\",\"line\":{\"colorbar\":{\"outlinewidth\":0,\"ticks\":\"\"}}}],\"scatterpolargl\":[{\"type\":\"scatterpolargl\",\"marker\":{\"colorbar\":{\"outlinewidth\":0,\"ticks\":\"\"}}}],\"bar\":[{\"error_x\":{\"color\":\"#2a3f5f\"},\"error_y\":{\"color\":\"#2a3f5f\"},\"marker\":{\"line\":{\"color\":\"#E5ECF6\",\"width\":0.5},\"pattern\":{\"fillmode\":\"overlay\",\"size\":10,\"solidity\":0.2}},\"type\":\"bar\"}],\"scattergeo\":[{\"type\":\"scattergeo\",\"marker\":{\"colorbar\":{\"outlinewidth\":0,\"ticks\":\"\"}}}],\"scatterpolar\":[{\"type\":\"scatterpolar\",\"marker\":{\"colorbar\":{\"outlinewidth\":0,\"ticks\":\"\"}}}],\"histogram\":[{\"marker\":{\"pattern\":{\"fillmode\":\"overlay\",\"size\":10,\"solidity\":0.2}},\"type\":\"histogram\"}],\"scattergl\":[{\"type\":\"scattergl\",\"marker\":{\"colorbar\":{\"outlinewidth\":0,\"ticks\":\"\"}}}],\"scatter3d\":[{\"type\":\"scatter3d\",\"line\":{\"colorbar\":{\"outlinewidth\":0,\"ticks\":\"\"}},\"marker\":{\"colorbar\":{\"outlinewidth\":0,\"ticks\":\"\"}}}],\"scattermapbox\":[{\"type\":\"scattermapbox\",\"marker\":{\"colorbar\":{\"outlinewidth\":0,\"ticks\":\"\"}}}],\"scatterternary\":[{\"type\":\"scatterternary\",\"marker\":{\"colorbar\":{\"outlinewidth\":0,\"ticks\":\"\"}}}],\"scattercarpet\":[{\"type\":\"scattercarpet\",\"marker\":{\"colorbar\":{\"outlinewidth\":0,\"ticks\":\"\"}}}],\"carpet\":[{\"aaxis\":{\"endlinecolor\":\"#2a3f5f\",\"gridcolor\":\"white\",\"linecolor\":\"white\",\"minorgridcolor\":\"white\",\"startlinecolor\":\"#2a3f5f\"},\"baxis\":{\"endlinecolor\":\"#2a3f5f\",\"gridcolor\":\"white\",\"linecolor\":\"white\",\"minorgridcolor\":\"white\",\"startlinecolor\":\"#2a3f5f\"},\"type\":\"carpet\"}],\"table\":[{\"cells\":{\"fill\":{\"color\":\"#EBF0F8\"},\"line\":{\"color\":\"white\"}},\"header\":{\"fill\":{\"color\":\"#C8D4E3\"},\"line\":{\"color\":\"white\"}},\"type\":\"table\"}],\"barpolar\":[{\"marker\":{\"line\":{\"color\":\"#E5ECF6\",\"width\":0.5},\"pattern\":{\"fillmode\":\"overlay\",\"size\":10,\"solidity\":0.2}},\"type\":\"barpolar\"}],\"pie\":[{\"automargin\":true,\"type\":\"pie\"}]},\"layout\":{\"autotypenumbers\":\"strict\",\"colorway\":[\"#636efa\",\"#EF553B\",\"#00cc96\",\"#ab63fa\",\"#FFA15A\",\"#19d3f3\",\"#FF6692\",\"#B6E880\",\"#FF97FF\",\"#FECB52\"],\"font\":{\"color\":\"#2a3f5f\"},\"hovermode\":\"closest\",\"hoverlabel\":{\"align\":\"left\"},\"paper_bgcolor\":\"white\",\"plot_bgcolor\":\"#E5ECF6\",\"polar\":{\"bgcolor\":\"#E5ECF6\",\"angularaxis\":{\"gridcolor\":\"white\",\"linecolor\":\"white\",\"ticks\":\"\"},\"radialaxis\":{\"gridcolor\":\"white\",\"linecolor\":\"white\",\"ticks\":\"\"}},\"ternary\":{\"bgcolor\":\"#E5ECF6\",\"aaxis\":{\"gridcolor\":\"white\",\"linecolor\":\"white\",\"ticks\":\"\"},\"baxis\":{\"gridcolor\":\"white\",\"linecolor\":\"white\",\"ticks\":\"\"},\"caxis\":{\"gridcolor\":\"white\",\"linecolor\":\"white\",\"ticks\":\"\"}},\"coloraxis\":{\"colorbar\":{\"outlinewidth\":0,\"ticks\":\"\"}},\"colorscale\":{\"sequential\":[[0.0,\"#0d0887\"],[0.1111111111111111,\"#46039f\"],[0.2222222222222222,\"#7201a8\"],[0.3333333333333333,\"#9c179e\"],[0.4444444444444444,\"#bd3786\"],[0.5555555555555556,\"#d8576b\"],[0.6666666666666666,\"#ed7953\"],[0.7777777777777778,\"#fb9f3a\"],[0.8888888888888888,\"#fdca26\"],[1.0,\"#f0f921\"]],\"sequentialminus\":[[0.0,\"#0d0887\"],[0.1111111111111111,\"#46039f\"],[0.2222222222222222,\"#7201a8\"],[0.3333333333333333,\"#9c179e\"],[0.4444444444444444,\"#bd3786\"],[0.5555555555555556,\"#d8576b\"],[0.6666666666666666,\"#ed7953\"],[0.7777777777777778,\"#fb9f3a\"],[0.8888888888888888,\"#fdca26\"],[1.0,\"#f0f921\"]],\"diverging\":[[0,\"#8e0152\"],[0.1,\"#c51b7d\"],[0.2,\"#de77ae\"],[0.3,\"#f1b6da\"],[0.4,\"#fde0ef\"],[0.5,\"#f7f7f7\"],[0.6,\"#e6f5d0\"],[0.7,\"#b8e186\"],[0.8,\"#7fbc41\"],[0.9,\"#4d9221\"],[1,\"#276419\"]]},\"xaxis\":{\"gridcolor\":\"white\",\"linecolor\":\"white\",\"ticks\":\"\",\"title\":{\"standoff\":15},\"zerolinecolor\":\"white\",\"automargin\":true,\"zerolinewidth\":2},\"yaxis\":{\"gridcolor\":\"white\",\"linecolor\":\"white\",\"ticks\":\"\",\"title\":{\"standoff\":15},\"zerolinecolor\":\"white\",\"automargin\":true,\"zerolinewidth\":2},\"scene\":{\"xaxis\":{\"backgroundcolor\":\"#E5ECF6\",\"gridcolor\":\"white\",\"linecolor\":\"white\",\"showbackground\":true,\"ticks\":\"\",\"zerolinecolor\":\"white\",\"gridwidth\":2},\"yaxis\":{\"backgroundcolor\":\"#E5ECF6\",\"gridcolor\":\"white\",\"linecolor\":\"white\",\"showbackground\":true,\"ticks\":\"\",\"zerolinecolor\":\"white\",\"gridwidth\":2},\"zaxis\":{\"backgroundcolor\":\"#E5ECF6\",\"gridcolor\":\"white\",\"linecolor\":\"white\",\"showbackground\":true,\"ticks\":\"\",\"zerolinecolor\":\"white\",\"gridwidth\":2}},\"shapedefaults\":{\"line\":{\"color\":\"#2a3f5f\"}},\"annotationdefaults\":{\"arrowcolor\":\"#2a3f5f\",\"arrowhead\":0,\"arrowwidth\":1},\"geo\":{\"bgcolor\":\"white\",\"landcolor\":\"#E5ECF6\",\"subunitcolor\":\"white\",\"showland\":true,\"showlakes\":true,\"lakecolor\":\"white\"},\"title\":{\"x\":0.05},\"mapbox\":{\"style\":\"light\"}}},\"legend\":{\"tracegroupgap\":0},\"title\":{\"text\":\"Pie Chart of Categories\"}},                        {\"responsive\": true}                    ).then(function(){\n",
       "                            \n",
       "var gd = document.getElementById('c86c7c09-5529-4a4a-b5c7-f54dbcab6e65');\n",
       "var x = new MutationObserver(function (mutations, observer) {{\n",
       "        var display = window.getComputedStyle(gd).display;\n",
       "        if (!display || display === 'none') {{\n",
       "            console.log([gd, 'removed!']);\n",
       "            Plotly.purge(gd);\n",
       "            observer.disconnect();\n",
       "        }}\n",
       "}});\n",
       "\n",
       "// Listen for the removal of the full notebook cells\n",
       "var notebookContainer = gd.closest('#notebook-container');\n",
       "if (notebookContainer) {{\n",
       "    x.observe(notebookContainer, {childList: true});\n",
       "}}\n",
       "\n",
       "// Listen for the clearing of the current output cell\n",
       "var outputEl = gd.closest('.output');\n",
       "if (outputEl) {{\n",
       "    x.observe(outputEl, {childList: true});\n",
       "}}\n",
       "\n",
       "                        })                };                });            </script>        </div>"
      ]
     },
     "metadata": {},
     "output_type": "display_data"
    }
   ],
   "source": [
    "import plotly.express as px\n",
    "import altair as alt \n",
    "\n",
    "# Calculate counts of each category\n",
    "category_counts = data['Scheme Category Name'].value_counts()\n",
    "\n",
    "# Create a pie chart\n",
    "fig = px.pie(values=category_counts.values, names=category_counts.index, title='Pie Chart of Categories')\n",
    "\n",
    "\n",
    "fig.show()"
   ]
  },
  {
   "cell_type": "code",
   "execution_count": 76,
   "metadata": {},
   "outputs": [
    {
     "data": {
      "text/html": [
       "\n",
       "<style>\n",
       "  #altair-viz-6123e3f0766f44d8b343a619fc9dcf64.vega-embed {\n",
       "    width: 100%;\n",
       "    display: flex;\n",
       "  }\n",
       "\n",
       "  #altair-viz-6123e3f0766f44d8b343a619fc9dcf64.vega-embed details,\n",
       "  #altair-viz-6123e3f0766f44d8b343a619fc9dcf64.vega-embed details summary {\n",
       "    position: relative;\n",
       "  }\n",
       "</style>\n",
       "<div id=\"altair-viz-6123e3f0766f44d8b343a619fc9dcf64\"></div>\n",
       "<script type=\"text/javascript\">\n",
       "  var VEGA_DEBUG = (typeof VEGA_DEBUG == \"undefined\") ? {} : VEGA_DEBUG;\n",
       "  (function(spec, embedOpt){\n",
       "    let outputDiv = document.currentScript.previousElementSibling;\n",
       "    if (outputDiv.id !== \"altair-viz-6123e3f0766f44d8b343a619fc9dcf64\") {\n",
       "      outputDiv = document.getElementById(\"altair-viz-6123e3f0766f44d8b343a619fc9dcf64\");\n",
       "    }\n",
       "    const paths = {\n",
       "      \"vega\": \"https://cdn.jsdelivr.net/npm/vega@5?noext\",\n",
       "      \"vega-lib\": \"https://cdn.jsdelivr.net/npm/vega-lib?noext\",\n",
       "      \"vega-lite\": \"https://cdn.jsdelivr.net/npm/vega-lite@5.17.0?noext\",\n",
       "      \"vega-embed\": \"https://cdn.jsdelivr.net/npm/vega-embed@6?noext\",\n",
       "    };\n",
       "\n",
       "    function maybeLoadScript(lib, version) {\n",
       "      var key = `${lib.replace(\"-\", \"\")}_version`;\n",
       "      return (VEGA_DEBUG[key] == version) ?\n",
       "        Promise.resolve(paths[lib]) :\n",
       "        new Promise(function(resolve, reject) {\n",
       "          var s = document.createElement('script');\n",
       "          document.getElementsByTagName(\"head\")[0].appendChild(s);\n",
       "          s.async = true;\n",
       "          s.onload = () => {\n",
       "            VEGA_DEBUG[key] = version;\n",
       "            return resolve(paths[lib]);\n",
       "          };\n",
       "          s.onerror = () => reject(`Error loading script: ${paths[lib]}`);\n",
       "          s.src = paths[lib];\n",
       "        });\n",
       "    }\n",
       "\n",
       "    function showError(err) {\n",
       "      outputDiv.innerHTML = `<div class=\"error\" style=\"color:red;\">${err}</div>`;\n",
       "      throw err;\n",
       "    }\n",
       "\n",
       "    function displayChart(vegaEmbed) {\n",
       "      vegaEmbed(outputDiv, spec, embedOpt)\n",
       "        .catch(err => showError(`Javascript Error: ${err.message}<br>This usually means there's a typo in your chart specification. See the javascript console for the full traceback.`));\n",
       "    }\n",
       "\n",
       "    if(typeof define === \"function\" && define.amd) {\n",
       "      requirejs.config({paths});\n",
       "      require([\"vega-embed\"], displayChart, err => showError(`Error loading script: ${err.message}`));\n",
       "    } else {\n",
       "      maybeLoadScript(\"vega\", \"5\")\n",
       "        .then(() => maybeLoadScript(\"vega-lite\", \"5.17.0\"))\n",
       "        .then(() => maybeLoadScript(\"vega-embed\", \"6\"))\n",
       "        .catch(showError)\n",
       "        .then(() => displayChart(vegaEmbed));\n",
       "    }\n",
       "  })({\"config\": {\"view\": {\"continuousWidth\": 300, \"continuousHeight\": 300}}, \"data\": {\"name\": \"data-cdba140af25253d0543d067e87fa21cf\"}, \"mark\": {\"type\": \"arc\", \"innerRadius\": 50}, \"encoding\": {\"color\": {\"field\": \"category\", \"type\": \"nominal\"}, \"theta\": {\"field\": \"count\", \"type\": \"quantitative\"}}, \"$schema\": \"https://vega.github.io/schema/vega-lite/v5.17.0.json\", \"datasets\": {\"data-cdba140af25253d0543d067e87fa21cf\": [{\"category\": \"Equity - Diversified\", \"count\": 14}, {\"category\": \"Equity - Sector - Auto\", \"count\": 1}, {\"category\": \"Equity - Sector - Pharma\", \"count\": 1}, {\"category\": \"Equity - Sector - Technology\", \"count\": 1}, {\"category\": \"Index Funds\", \"count\": 1}, {\"category\": \"Fund of Funds - Gold\", \"count\": 1}]}}, {\"mode\": \"vega-lite\"});\n",
       "</script>"
      ],
      "text/plain": [
       "alt.Chart(...)"
      ]
     },
     "execution_count": 76,
     "metadata": {},
     "output_type": "execute_result"
    }
   ],
   "source": [
    "\n",
    "# Calculate counts of each category\n",
    "# category_counts = df['category'].value_counts().reset_index()\n",
    "\n",
    "# Rename columns for clarity\n",
    "category_counts = data['Scheme Category Name'].value_counts().reset_index()\n",
    "# Rename columns for clarity\n",
    "category_counts.columns = ['category', 'count']\n",
    "alt.Chart(category_counts).mark_arc(innerRadius=50).encode(\n",
    "    theta=\"count\",\n",
    "    color=\"category:N\",\n",
    ")"
   ]
  },
  {
   "cell_type": "code",
   "execution_count": 2,
   "metadata": {},
   "outputs": [
    {
     "data": {
      "text/html": [
       "\n",
       "<style>\n",
       "  #altair-viz-b69fa54001f342dc9a62c69b39ca7ddf.vega-embed {\n",
       "    width: 100%;\n",
       "    display: flex;\n",
       "  }\n",
       "\n",
       "  #altair-viz-b69fa54001f342dc9a62c69b39ca7ddf.vega-embed details,\n",
       "  #altair-viz-b69fa54001f342dc9a62c69b39ca7ddf.vega-embed details summary {\n",
       "    position: relative;\n",
       "  }\n",
       "</style>\n",
       "<div id=\"altair-viz-b69fa54001f342dc9a62c69b39ca7ddf\"></div>\n",
       "<script type=\"text/javascript\">\n",
       "  var VEGA_DEBUG = (typeof VEGA_DEBUG == \"undefined\") ? {} : VEGA_DEBUG;\n",
       "  (function(spec, embedOpt){\n",
       "    let outputDiv = document.currentScript.previousElementSibling;\n",
       "    if (outputDiv.id !== \"altair-viz-b69fa54001f342dc9a62c69b39ca7ddf\") {\n",
       "      outputDiv = document.getElementById(\"altair-viz-b69fa54001f342dc9a62c69b39ca7ddf\");\n",
       "    }\n",
       "    const paths = {\n",
       "      \"vega\": \"https://cdn.jsdelivr.net/npm/vega@5?noext\",\n",
       "      \"vega-lib\": \"https://cdn.jsdelivr.net/npm/vega-lib?noext\",\n",
       "      \"vega-lite\": \"https://cdn.jsdelivr.net/npm/vega-lite@5.17.0?noext\",\n",
       "      \"vega-embed\": \"https://cdn.jsdelivr.net/npm/vega-embed@6?noext\",\n",
       "    };\n",
       "\n",
       "    function maybeLoadScript(lib, version) {\n",
       "      var key = `${lib.replace(\"-\", \"\")}_version`;\n",
       "      return (VEGA_DEBUG[key] == version) ?\n",
       "        Promise.resolve(paths[lib]) :\n",
       "        new Promise(function(resolve, reject) {\n",
       "          var s = document.createElement('script');\n",
       "          document.getElementsByTagName(\"head\")[0].appendChild(s);\n",
       "          s.async = true;\n",
       "          s.onload = () => {\n",
       "            VEGA_DEBUG[key] = version;\n",
       "            return resolve(paths[lib]);\n",
       "          };\n",
       "          s.onerror = () => reject(`Error loading script: ${paths[lib]}`);\n",
       "          s.src = paths[lib];\n",
       "        });\n",
       "    }\n",
       "\n",
       "    function showError(err) {\n",
       "      outputDiv.innerHTML = `<div class=\"error\" style=\"color:red;\">${err}</div>`;\n",
       "      throw err;\n",
       "    }\n",
       "\n",
       "    function displayChart(vegaEmbed) {\n",
       "      vegaEmbed(outputDiv, spec, embedOpt)\n",
       "        .catch(err => showError(`Javascript Error: ${err.message}<br>This usually means there's a typo in your chart specification. See the javascript console for the full traceback.`));\n",
       "    }\n",
       "\n",
       "    if(typeof define === \"function\" && define.amd) {\n",
       "      requirejs.config({paths});\n",
       "      require([\"vega-embed\"], displayChart, err => showError(`Error loading script: ${err.message}`));\n",
       "    } else {\n",
       "      maybeLoadScript(\"vega\", \"5\")\n",
       "        .then(() => maybeLoadScript(\"vega-lite\", \"5.17.0\"))\n",
       "        .then(() => maybeLoadScript(\"vega-embed\", \"6\"))\n",
       "        .catch(showError)\n",
       "        .then(() => displayChart(vegaEmbed));\n",
       "    }\n",
       "  })({\"config\": {\"view\": {\"continuousWidth\": 300, \"continuousHeight\": 300}}, \"layer\": [{\"mark\": {\"type\": \"circle\", \"size\": 100}, \"encoding\": {\"tooltip\": {\"field\": \"Company\", \"type\": \"nominal\"}, \"x\": {\"field\": \"Portfolio1\", \"title\": \"Contribution in Portfolio 1\", \"type\": \"quantitative\"}, \"y\": {\"field\": \"Portfolio2\", \"title\": \"Contribution in Portfolio 2\", \"type\": \"quantitative\"}}, \"title\": \"Overlapping Companies Between Portfolios\"}, {\"mark\": {\"type\": \"text\", \"align\": \"left\", \"baseline\": \"middle\", \"dx\": 7}, \"encoding\": {\"text\": {\"field\": \"Company\", \"type\": \"nominal\"}, \"tooltip\": {\"field\": \"Company\", \"type\": \"nominal\"}, \"x\": {\"field\": \"Portfolio1\", \"title\": \"Contribution in Portfolio 1\", \"type\": \"quantitative\"}, \"y\": {\"field\": \"Portfolio2\", \"title\": \"Contribution in Portfolio 2\", \"type\": \"quantitative\"}}, \"title\": \"Overlapping Companies Between Portfolios\"}], \"data\": {\"name\": \"data-461ab5337d48257c9068475d6cc9c0d8\"}, \"$schema\": \"https://vega.github.io/schema/vega-lite/v5.17.0.json\", \"datasets\": {\"data-461ab5337d48257c9068475d6cc9c0d8\": [{\"Company\": \"A\", \"Portfolio1\": 0.3, \"Portfolio2\": 0.4}, {\"Company\": \"B\", \"Portfolio1\": 0.5, \"Portfolio2\": 0.4}]}}, {\"mode\": \"vega-lite\"});\n",
       "</script>"
      ],
      "text/plain": [
       "alt.LayerChart(...)"
      ]
     },
     "metadata": {},
     "output_type": "display_data"
    }
   ],
   "source": [
    "import pandas as pd\n",
    "import altair as alt\n",
    "\n",
    "# Sample dataframes (replace these with your actual data)\n",
    "df1 = pd.DataFrame({'Company': ['A', 'B', 'C'], 'Portfolio1': [0.3, 0.5, 0.2]})\n",
    "df2 = pd.DataFrame({'Company': ['A', 'B', 'D'], 'Portfolio2': [0.4, 0.4, 0.2]})\n",
    "\n",
    "# Merge dataframes on 'Company' column\n",
    "merged_df = pd.merge(df1, df2, on='Company', how='inner')\n",
    "\n",
    "# Create scatter plot with overlapping companies\n",
    "scatter = alt.Chart(merged_df).mark_circle(size=100).encode(\n",
    "    x=alt.X('Portfolio1', title='Contribution in Portfolio 1'),\n",
    "    y=alt.Y('Portfolio2', title='Contribution in Portfolio 2'),\n",
    "    tooltip='Company'\n",
    ").properties(\n",
    "    title='Overlapping Companies Between Portfolios'\n",
    ")\n",
    "\n",
    "# Create text annotations for company names\n",
    "text = scatter.mark_text(\n",
    "    align='left',\n",
    "    baseline='middle',\n",
    "    dx=7,  # Adjust text position for better visibility\n",
    ").encode(\n",
    "    text='Company'\n",
    ")\n",
    "\n",
    "# Combine scatter plot and text annotations\n",
    "chart = scatter + text\n",
    "\n",
    "# Show the chart\n",
    "chart.show()\n"
   ]
  }
 ],
 "metadata": {
  "kernelspec": {
   "display_name": "DS",
   "language": "python",
   "name": "python3"
  },
  "language_info": {
   "codemirror_mode": {
    "name": "ipython",
    "version": 3
   },
   "file_extension": ".py",
   "mimetype": "text/x-python",
   "name": "python",
   "nbconvert_exporter": "python",
   "pygments_lexer": "ipython3",
   "version": "3.11.3"
  }
 },
 "nbformat": 4,
 "nbformat_minor": 2
}
